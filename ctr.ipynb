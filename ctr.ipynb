{
 "cells": [
  {
   "cell_type": "code",
   "execution_count": 1,
   "metadata": {
    "collapsed": true
   },
   "outputs": [],
   "source": [
    "import pandas as pd"
   ]
  },
  {
   "cell_type": "code",
   "execution_count": 12,
   "metadata": {
    "collapsed": false
   },
   "outputs": [
    {
     "name": "stdout",
     "output_type": "stream",
     "text": [
      "['Click', 'Weekday', 'Hour', 'Timestamp', 'Log Type', 'User ID', 'User\\xe2\\x80\\x90Agent', 'IP', 'Region', 'City', 'Ad Exchange', 'Domain', 'URL', 'Anonymous URL ID', 'Ad slot ID', 'Ad slot width', 'Ad slot height', 'Ad slot visibility', 'Ad slot format', 'Ad slot floor price (RMB/CPM)', 'Creative ID', 'Key Page URL', 'Advertiser ID', 'User Tags']\n"
     ]
    }
   ],
   "source": [
    "alist  = [\"Click\", \"Weekday\", \"Hour\", \"Timestamp\", \"Log Type\", \"User ID\", \"User‐Agent\", \"IP\", \"Region\", \"City\", \"Ad Exchange\", \"Domain\", \"URL\", \"Anonymous URL ID\", \"Ad slot ID\", \"Ad slot width\", \"Ad slot height\", \"Ad slot visibility\", \"Ad slot format\", \"Ad slot floor price (RMB/CPM)\", \"Creative ID\", \"Key Page URL\", \"Advertiser ID\", \"User Tags\"]\n",
    "print(alist)"
   ]
  },
  {
   "cell_type": "code",
   "execution_count": 15,
   "metadata": {
    "collapsed": false,
    "scrolled": false
   },
   "outputs": [
    {
     "name": "stdout",
     "output_type": "stream",
     "text": [
      "   Click  Weekday  Hour          Timestamp  Log Type          User ID  \\\n",
      "0      0        6     0  20130606000104308         1  VhT3La5uDlaywOj   \n",
      "1      0        6     0  20130606000104371         1  Vhk0Z35ULqFcBZc   \n",
      "2      0        6     0  20130606000104420         1  Vhk7ZAnxPcKOjCb   \n",
      "3      0        6     0  20130606000104436         1  VhkY1nFEPlkyeIC   \n",
      "4      0        6     0  20130606000104450         1  VhLrOxuUPqd63CL   \n",
      "\n",
      "       User‐Agent             IP  Region  City  \\\n",
      "0  windows_chrome   122.233.40.*      94    95   \n",
      "1      windows_ie  180.107.223.*      80    85   \n",
      "2      windows_ie  111.120.123.*     298   299   \n",
      "3      windows_ie    112.95.93.*     216   219   \n",
      "4  windows_chrome  113.200.249.*     333   334   \n",
      "\n",
      "                  ...                                    Ad slot ID  \\\n",
      "0                 ...                   mm_10058411_2865562_9929053   \n",
      "1                 ...                                    4017603800   \n",
      "2                 ...                                    2141208056   \n",
      "3                 ...                                     415540879   \n",
      "4                 ...                                    2811067692   \n",
      "\n",
      "  Ad slot width Ad slot height Ad slot visibility Ad slot format  \\\n",
      "0           300            250                  2              1   \n",
      "1           336            280                  2              0   \n",
      "2           250            250                  2              0   \n",
      "3           250            250                  2              0   \n",
      "4           250            250                  2              0   \n",
      "\n",
      "   Ad slot floor price (RMB/CPM)                       Creative ID  \\\n",
      "0                              0  44966cc8da1ed40c95d59e863c8c75f0   \n",
      "1                              5  ff5123fb9333ca095034c62fdaaf51aa   \n",
      "2                              5  7097e4210dea4d69f07f0f5e4343529c   \n",
      "3                              5  7097e4210dea4d69f07f0f5e4343529c   \n",
      "4                              5  7097e4210dea4d69f07f0f5e4343529c   \n",
      "\n",
      "                       Key Page URL  Advertiser ID  \\\n",
      "0  361e128affece850342293213691a043           3386   \n",
      "1  361e128affece850342293213691a043           3386   \n",
      "2  361e128affece850342293213691a043           3386   \n",
      "3  361e128affece850342293213691a043           3386   \n",
      "4  361e128affece850342293213691a043           3386   \n",
      "\n",
      "                             User Tags  \n",
      "0  10057,10063,10024,13800,13866,10110  \n",
      "1              10063,10059,13776,10111  \n",
      "2                          10063,10111  \n",
      "3                                10048  \n",
      "4                    10006,10057,14273  \n",
      "\n",
      "[5 rows x 24 columns]\n"
     ]
    }
   ],
   "source": [
    "myfile = 'trainhead.txt'\n",
    "\n",
    "train = pd.read_csv(myfile, header = None, sep = '\\t', names = alist)\n",
    "print(train.head())\n",
    "train.head().to_csv('out.csv', sep = '\\t')"
   ]
  },
  {
   "cell_type": "code",
   "execution_count": 16,
   "metadata": {
    "collapsed": false
   },
   "outputs": [
    {
     "name": "stdout",
     "output_type": "stream",
     "text": [
      "             Click  Weekday  Hour     Timestamp  Log Type       Region  \\\n",
      "count  1000.000000     1000  1000  1.000000e+03      1000  1000.000000   \n",
      "mean      0.001000        6     0  2.013061e+16         1   172.984000   \n",
      "std       0.031623        0     0  5.124923e+02         0   104.847607   \n",
      "min       0.000000        6     0  2.013061e+16         1     0.000000   \n",
      "25%       0.000000        6     0  2.013061e+16         1    80.000000   \n",
      "50%       0.000000        6     0  2.013061e+16         1   201.000000   \n",
      "75%       0.000000        6     0  2.013061e+16         1   253.000000   \n",
      "max       1.000000        6     0  2.013061e+16         1   395.000000   \n",
      "\n",
      "              City  Ad Exchange  Ad slot width  Ad slot height  \\\n",
      "count  1000.000000  1000.000000    1000.000000      1000.00000   \n",
      "mean    177.570000     1.500000     388.688000       235.52000   \n",
      "std     106.291255     0.504236     190.292853       135.72159   \n",
      "min       0.000000     1.000000     120.000000        60.00000   \n",
      "25%      84.750000     1.000000     300.000000        90.00000   \n",
      "50%     203.500000     1.000000     300.000000       250.00000   \n",
      "75%     275.000000     2.000000     468.000000       250.00000   \n",
      "max     397.000000     3.000000    1000.000000       600.00000   \n",
      "\n",
      "       Ad slot visibility  Ad slot format  Ad slot floor price (RMB/CPM)  \\\n",
      "count         1000.000000     1000.000000                    1000.000000   \n",
      "mean             5.817000        0.570000                       9.755000   \n",
      "std             33.763227        0.765301                      31.430795   \n",
      "min              0.000000        0.000000                       0.000000   \n",
      "25%              1.000000        0.000000                       0.000000   \n",
      "50%              2.000000        1.000000                       0.000000   \n",
      "75%              2.000000        1.000000                       5.000000   \n",
      "max            255.000000        5.000000                     295.000000   \n",
      "\n",
      "       Advertiser ID  \n",
      "count           1000  \n",
      "mean            3386  \n",
      "std                0  \n",
      "min             3386  \n",
      "25%             3386  \n",
      "50%             3386  \n",
      "75%             3386  \n",
      "max             3386  \n",
      "(1000, 24)\n"
     ]
    }
   ],
   "source": [
    "print(train.describe())\n",
    "print(train.shape)"
   ]
  }
 ],
 "metadata": {
  "kernelspec": {
   "display_name": "Python 2",
   "language": "python",
   "name": "python2"
  },
  "language_info": {
   "codemirror_mode": {
    "name": "ipython",
    "version": 2
   },
   "file_extension": ".py",
   "mimetype": "text/x-python",
   "name": "python",
   "nbconvert_exporter": "python",
   "pygments_lexer": "ipython2",
   "version": "2.7.11"
  }
 },
 "nbformat": 4,
 "nbformat_minor": 0
}
