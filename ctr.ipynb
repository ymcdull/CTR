{
 "cells": [
  {
   "cell_type": "code",
   "execution_count": 3,
   "metadata": {
    "collapsed": false,
    "scrolled": true
   },
   "outputs": [],
   "source": [
    "import pandas as pd\n",
    "import numpy as np\n",
    "from sklearn.linear_model import LogisticRegression\n",
    "from sklearn.cross_validation import train_test_split\n",
    "import random\n",
    "from sklearn.ensemble import GradientBoostingRegressor\n",
    "from sklearn.metrics import auc\n",
    "from sklearn.metrics import roc_auc_score\n",
    "\n",
    "np.set_printoptions(suppress=True)"
   ]
  },
  {
   "cell_type": "code",
   "execution_count": 4,
   "metadata": {
    "collapsed": false
   },
   "outputs": [
    {
     "name": "stdout",
     "output_type": "stream",
     "text": [
      "['Click', 'Weekday', 'Hour', 'Timestamp', 'Log Type', 'User ID', 'User\\xe2\\x80\\x90Agent', 'IP', 'Region', 'City', 'Ad Exchange', 'Domain', 'URL', 'Anonymous URL ID', 'Ad slot ID', 'Ad slot width', 'Ad slot height', 'Ad slot visibility', 'Ad slot format', 'Ad slot floor price (RMB/CPM)', 'Creative ID', 'Key Page URL', 'Advertiser ID', 'User Tags']\n"
     ]
    }
   ],
   "source": [
    "header  = [\"Click\", \"Weekday\", \"Hour\", \"Timestamp\", \"Log Type\", \"User ID\", \"User‐Agent\", \"IP\", \"Region\", \"City\", \"Ad Exchange\", \"Domain\", \"URL\", \"Anonymous URL ID\", \"Ad slot ID\", \"Ad slot width\", \"Ad slot height\", \"Ad slot visibility\", \"Ad slot format\", \"Ad slot floor price (RMB/CPM)\", \"Creative ID\", \"Key Page URL\", \"Advertiser ID\", \"User Tags\"]\n",
    "print(header)"
   ]
  },
  {
   "cell_type": "code",
   "execution_count": 5,
   "metadata": {
    "collapsed": false,
    "scrolled": false
   },
   "outputs": [
    {
     "name": "stdout",
     "output_type": "stream",
     "text": [
      "   Click  Weekday  Hour          Timestamp  Log Type          User ID  \\\n",
      "0      0        6     0  20130606000104589         1  VhkS1DK53UjsBVL   \n",
      "1      0        6     0  20130606000104622         1  VhL0O5FD32m63hl   \n",
      "2      0        6     0  20130606000104809         1  Vhk7ZAnxD9lfQoL   \n",
      "3      0        6     0  20130606000104878         1  Vhk7ZAnx3Tmdjda   \n",
      "4      0        6     0  20130606000104991         1  Vhk7ZAnx3cB9tbc   \n",
      "\n",
      "   User‐Agent             IP  Region  City  \\\n",
      "0  windows_ie  221.228.142.*      80    82   \n",
      "1  windows_ie     221.10.5.*     276   277   \n",
      "2  windows_ie    60.160.94.*     308   321   \n",
      "3  windows_ie    210.21.84.*     216   217   \n",
      "4  windows_ie  222.243.167.*     201   204   \n",
      "\n",
      "                  ...                                     Ad slot ID  \\\n",
      "0                 ...                    mm_14539978_2071324_8355258   \n",
      "1                 ...                   mm_24597501_3474831_11374379   \n",
      "2                 ...                    mm_27762412_2408764_9403472   \n",
      "3                 ...                                     2226130719   \n",
      "4                 ...                    mm_10839307_2308336_9004871   \n",
      "\n",
      "  Ad slot width Ad slot height Ad slot visibility Ad slot format  \\\n",
      "0           300            250                  1              1   \n",
      "1           300            250                  0              1   \n",
      "2           300            250                  2              1   \n",
      "3           468             60                  1              0   \n",
      "4           300            250                  2              1   \n",
      "\n",
      "   Ad slot floor price (RMB/CPM)                       Creative ID  \\\n",
      "0                              0  44966cc8da1ed40c95d59e863c8c75f0   \n",
      "1                              0  44966cc8da1ed40c95d59e863c8c75f0   \n",
      "2                              0  44966cc8da1ed40c95d59e863c8c75f0   \n",
      "3                              5  2f88fc9cf0141b5bbaf251cab07f4ce7   \n",
      "4                              0  44966cc8da1ed40c95d59e863c8c75f0   \n",
      "\n",
      "                       Key Page URL  Advertiser ID  \\\n",
      "0  361e128affece850342293213691a043           3386   \n",
      "1  361e128affece850342293213691a043           3386   \n",
      "2  361e128affece850342293213691a043           3386   \n",
      "3  361e128affece850342293213691a043           3386   \n",
      "4  361e128affece850342293213691a043           3386   \n",
      "\n",
      "                             User Tags  \n",
      "0  10083,10006,10063,10024,13403,10110  \n",
      "1                    10063,10067,10006  \n",
      "2                                10076  \n",
      "3                                 null  \n",
      "4                    10063,10083,10110  \n",
      "\n",
      "[5 rows x 24 columns]\n"
     ]
    }
   ],
   "source": [
    "trainfile = 'train_sample.txt'\n",
    "testfile = 'test.txt'\n",
    "\n",
    "train = pd.read_csv(trainfile, header = None, sep = '\\t', names = header)\n",
    "test = pd.read_csv(testfile, header = None, sep = '\\t', names = header[1:])\n",
    "\n",
    "trainlen = len(train)\n",
    "testlen = len(test)\n",
    "\n",
    "### Show head lines of files\n",
    "print(train.head())"
   ]
  },
  {
   "cell_type": "code",
   "execution_count": 6,
   "metadata": {
    "collapsed": false
   },
   "outputs": [
    {
     "name": "stdout",
     "output_type": "stream",
     "text": [
      "(500000, 23)\n",
      "(545421, 23)\n",
      "(1045421, 23)\n"
     ]
    }
   ],
   "source": [
    "### Combine train and test to re-factor the structure and build binary features for logistic regression\n",
    "print train.iloc[:,1:].shape\n",
    "print test.shape\n",
    "all_data = pd.concat([train.iloc[:,1:], test], axis=0)\n",
    "print(all_data.shape)"
   ]
  },
  {
   "cell_type": "code",
   "execution_count": 7,
   "metadata": {
    "collapsed": false
   },
   "outputs": [
    {
     "data": {
      "text/html": [
       "<div>\n",
       "<table border=\"1\" class=\"dataframe\">\n",
       "  <thead>\n",
       "    <tr style=\"text-align: right;\">\n",
       "      <th></th>\n",
       "      <th>Price_0</th>\n",
       "      <th>Price_1-10</th>\n",
       "      <th>Price_11-50</th>\n",
       "      <th>Price_51-100</th>\n",
       "      <th>Price_larger</th>\n",
       "    </tr>\n",
       "  </thead>\n",
       "  <tbody>\n",
       "    <tr>\n",
       "      <th>0</th>\n",
       "      <td>1</td>\n",
       "      <td>0</td>\n",
       "      <td>0</td>\n",
       "      <td>0</td>\n",
       "      <td>0</td>\n",
       "    </tr>\n",
       "    <tr>\n",
       "      <th>1</th>\n",
       "      <td>1</td>\n",
       "      <td>0</td>\n",
       "      <td>0</td>\n",
       "      <td>0</td>\n",
       "      <td>0</td>\n",
       "    </tr>\n",
       "    <tr>\n",
       "      <th>2</th>\n",
       "      <td>1</td>\n",
       "      <td>0</td>\n",
       "      <td>0</td>\n",
       "      <td>0</td>\n",
       "      <td>0</td>\n",
       "    </tr>\n",
       "    <tr>\n",
       "      <th>3</th>\n",
       "      <td>0</td>\n",
       "      <td>1</td>\n",
       "      <td>0</td>\n",
       "      <td>0</td>\n",
       "      <td>0</td>\n",
       "    </tr>\n",
       "    <tr>\n",
       "      <th>4</th>\n",
       "      <td>1</td>\n",
       "      <td>0</td>\n",
       "      <td>0</td>\n",
       "      <td>0</td>\n",
       "      <td>0</td>\n",
       "    </tr>\n",
       "  </tbody>\n",
       "</table>\n",
       "</div>"
      ],
      "text/plain": [
       "   Price_0  Price_1-10  Price_11-50  Price_51-100  Price_larger\n",
       "0        1           0            0             0             0\n",
       "1        1           0            0             0             0\n",
       "2        1           0            0             0             0\n",
       "3        0           1            0             0             0\n",
       "4        1           0            0             0             0"
      ]
     },
     "execution_count": 7,
     "metadata": {},
     "output_type": "execute_result"
    }
   ],
   "source": [
    "### Feature splitting for combining data\n",
    "### Test for pd.get_dummies\n",
    "\n",
    "### Expand Weekdays\n",
    "weekdays = pd.get_dummies(all_data[\"Weekday\"], prefix = \"Weekday\")\n",
    "\n",
    "### Expand Hour\n",
    "hour = pd.get_dummies(all_data[\"Hour\"], prefix = \"Hour\")\n",
    "\n",
    "### Expand OS and Browser\n",
    "os_and_browser = all_data[\"User‐Agent\"].str.split(\"_\", expand = True)\n",
    "os = os_and_browser[0]\n",
    "browser = os_and_browser[1]\n",
    "os = pd.get_dummies(os, prefix=\"OS\")\n",
    "browser = pd.get_dummies(browser, prefix=\"Browser\")\n",
    "\n",
    "### Expand floor price\n",
    "def price_transfer(x):\n",
    "  if x == 0:\n",
    "    return '0'\n",
    "  elif x >= 1 and x <= 10:\n",
    "    return '1-10'\n",
    "  elif x >= 11 and x <= 50:\n",
    "    return '11-50'\n",
    "  elif x >= 51 and x <= 100:\n",
    "    return '51-100'\n",
    "  else:\n",
    "    return 'larger'\n",
    "\n",
    "### Directly use dataframe method 'apply' to process series, instead of using map and lambda\n",
    "floor_price = all_data[\"Ad slot floor price (RMB/CPM)\"].astype(int).apply(price_transfer)\n",
    "# floor_price = map(lambda price: price_transfer(price), train[\"Ad slot floor price (RMB/CPM)\"].astype(int))\n",
    "\n",
    "floor_price = pd.get_dummies(floor_price, prefix = \"Price\")"
   ]
  },
  {
   "cell_type": "code",
   "execution_count": 8,
   "metadata": {
    "collapsed": false
   },
   "outputs": [
    {
     "name": "stdout",
     "output_type": "stream",
     "text": [
      "(500000, 51)\n"
     ]
    },
    {
     "data": {
      "text/html": [
       "<div>\n",
       "<table border=\"1\" class=\"dataframe\">\n",
       "  <thead>\n",
       "    <tr style=\"text-align: right;\">\n",
       "      <th></th>\n",
       "      <th>Weekday_0</th>\n",
       "      <th>Weekday_1</th>\n",
       "      <th>Weekday_2</th>\n",
       "      <th>Weekday_3</th>\n",
       "      <th>Weekday_4</th>\n",
       "      <th>Weekday_5</th>\n",
       "      <th>Weekday_6</th>\n",
       "      <th>Hour_0</th>\n",
       "      <th>Hour_1</th>\n",
       "      <th>Hour_2</th>\n",
       "      <th>...</th>\n",
       "      <th>Browser_opera</th>\n",
       "      <th>Browser_other</th>\n",
       "      <th>Browser_safari</th>\n",
       "      <th>Browser_sogou</th>\n",
       "      <th>Browser_theworld</th>\n",
       "      <th>Price_0</th>\n",
       "      <th>Price_1-10</th>\n",
       "      <th>Price_11-50</th>\n",
       "      <th>Price_51-100</th>\n",
       "      <th>Price_larger</th>\n",
       "    </tr>\n",
       "  </thead>\n",
       "  <tbody>\n",
       "    <tr>\n",
       "      <th>0</th>\n",
       "      <td>0</td>\n",
       "      <td>0</td>\n",
       "      <td>0</td>\n",
       "      <td>0</td>\n",
       "      <td>0</td>\n",
       "      <td>0</td>\n",
       "      <td>1</td>\n",
       "      <td>1</td>\n",
       "      <td>0</td>\n",
       "      <td>0</td>\n",
       "      <td>...</td>\n",
       "      <td>0</td>\n",
       "      <td>0</td>\n",
       "      <td>0</td>\n",
       "      <td>0</td>\n",
       "      <td>0</td>\n",
       "      <td>1</td>\n",
       "      <td>0</td>\n",
       "      <td>0</td>\n",
       "      <td>0</td>\n",
       "      <td>0</td>\n",
       "    </tr>\n",
       "    <tr>\n",
       "      <th>1</th>\n",
       "      <td>0</td>\n",
       "      <td>0</td>\n",
       "      <td>0</td>\n",
       "      <td>0</td>\n",
       "      <td>0</td>\n",
       "      <td>0</td>\n",
       "      <td>1</td>\n",
       "      <td>1</td>\n",
       "      <td>0</td>\n",
       "      <td>0</td>\n",
       "      <td>...</td>\n",
       "      <td>0</td>\n",
       "      <td>0</td>\n",
       "      <td>0</td>\n",
       "      <td>0</td>\n",
       "      <td>0</td>\n",
       "      <td>1</td>\n",
       "      <td>0</td>\n",
       "      <td>0</td>\n",
       "      <td>0</td>\n",
       "      <td>0</td>\n",
       "    </tr>\n",
       "    <tr>\n",
       "      <th>2</th>\n",
       "      <td>0</td>\n",
       "      <td>0</td>\n",
       "      <td>0</td>\n",
       "      <td>0</td>\n",
       "      <td>0</td>\n",
       "      <td>0</td>\n",
       "      <td>1</td>\n",
       "      <td>1</td>\n",
       "      <td>0</td>\n",
       "      <td>0</td>\n",
       "      <td>...</td>\n",
       "      <td>0</td>\n",
       "      <td>0</td>\n",
       "      <td>0</td>\n",
       "      <td>0</td>\n",
       "      <td>0</td>\n",
       "      <td>1</td>\n",
       "      <td>0</td>\n",
       "      <td>0</td>\n",
       "      <td>0</td>\n",
       "      <td>0</td>\n",
       "    </tr>\n",
       "    <tr>\n",
       "      <th>3</th>\n",
       "      <td>0</td>\n",
       "      <td>0</td>\n",
       "      <td>0</td>\n",
       "      <td>0</td>\n",
       "      <td>0</td>\n",
       "      <td>0</td>\n",
       "      <td>1</td>\n",
       "      <td>1</td>\n",
       "      <td>0</td>\n",
       "      <td>0</td>\n",
       "      <td>...</td>\n",
       "      <td>0</td>\n",
       "      <td>0</td>\n",
       "      <td>0</td>\n",
       "      <td>0</td>\n",
       "      <td>0</td>\n",
       "      <td>0</td>\n",
       "      <td>1</td>\n",
       "      <td>0</td>\n",
       "      <td>0</td>\n",
       "      <td>0</td>\n",
       "    </tr>\n",
       "    <tr>\n",
       "      <th>4</th>\n",
       "      <td>0</td>\n",
       "      <td>0</td>\n",
       "      <td>0</td>\n",
       "      <td>0</td>\n",
       "      <td>0</td>\n",
       "      <td>0</td>\n",
       "      <td>1</td>\n",
       "      <td>1</td>\n",
       "      <td>0</td>\n",
       "      <td>0</td>\n",
       "      <td>...</td>\n",
       "      <td>0</td>\n",
       "      <td>0</td>\n",
       "      <td>0</td>\n",
       "      <td>0</td>\n",
       "      <td>0</td>\n",
       "      <td>1</td>\n",
       "      <td>0</td>\n",
       "      <td>0</td>\n",
       "      <td>0</td>\n",
       "      <td>0</td>\n",
       "    </tr>\n",
       "  </tbody>\n",
       "</table>\n",
       "<p>5 rows × 51 columns</p>\n",
       "</div>"
      ],
      "text/plain": [
       "   Weekday_0  Weekday_1  Weekday_2  Weekday_3  Weekday_4  Weekday_5  \\\n",
       "0          0          0          0          0          0          0   \n",
       "1          0          0          0          0          0          0   \n",
       "2          0          0          0          0          0          0   \n",
       "3          0          0          0          0          0          0   \n",
       "4          0          0          0          0          0          0   \n",
       "\n",
       "   Weekday_6  Hour_0  Hour_1  Hour_2      ...       Browser_opera  \\\n",
       "0          1       1       0       0      ...                   0   \n",
       "1          1       1       0       0      ...                   0   \n",
       "2          1       1       0       0      ...                   0   \n",
       "3          1       1       0       0      ...                   0   \n",
       "4          1       1       0       0      ...                   0   \n",
       "\n",
       "   Browser_other  Browser_safari  Browser_sogou  Browser_theworld  Price_0  \\\n",
       "0              0               0              0                 0        1   \n",
       "1              0               0              0                 0        1   \n",
       "2              0               0              0                 0        1   \n",
       "3              0               0              0                 0        0   \n",
       "4              0               0              0                 0        1   \n",
       "\n",
       "   Price_1-10  Price_11-50  Price_51-100  Price_larger  \n",
       "0           0            0             0             0  \n",
       "1           0            0             0             0  \n",
       "2           0            0             0             0  \n",
       "3           1            0             0             0  \n",
       "4           0            0             0             0  \n",
       "\n",
       "[5 rows x 51 columns]"
      ]
     },
     "execution_count": 8,
     "metadata": {},
     "output_type": "execute_result"
    }
   ],
   "source": [
    "### Combining features and split all_data to train and test\n",
    "all_data = pd.concat([weekdays, hour, os, browser, floor_price], axis = 1)\n",
    "mytrain = all_data.iloc[:trainlen]\n",
    "test = all_data.iloc[trainlen:]\n",
    "print(mytrain.shape)\n",
    "mytrain.head()"
   ]
  },
  {
   "cell_type": "code",
   "execution_count": 9,
   "metadata": {
    "collapsed": false
   },
   "outputs": [
    {
     "data": {
      "text/plain": [
       "(545421, 118)"
      ]
     },
     "execution_count": 9,
     "metadata": {},
     "output_type": "execute_result"
    }
   ],
   "source": [
    "### Read user tags features from csv file\n",
    "usertagsfile = 'usertags_train.txt'\n",
    "usertags_train = pd.read_csv(usertagsfile, sep = ' ')\n",
    "usertagsfile = 'usertags_test.txt'\n",
    "usertags_test = pd.read_csv(usertagsfile, sep = ' ')\n",
    "\n",
    "mytrain = pd.concat([mytrain, usertags_train], axis = 1)\n",
    "test = pd.concat([test, usertags_test], axis = 1)\n",
    "test.shape"
   ]
  },
  {
   "cell_type": "code",
   "execution_count": 20,
   "metadata": {
    "collapsed": false
   },
   "outputs": [
    {
     "name": "stdout",
     "output_type": "stream",
     "text": [
      "0.696406610808\n"
     ]
    }
   ],
   "source": [
    "### Logistic Regression\n",
    "X,x,Y,y = train_test_split(mytrain, train[\"Click\"], test_size = 0.1)\n",
    "     \n",
    "lr = LogisticRegression(C=0.1)\n",
    "lr.fit(X, Y)\n",
    "result = lr.predict_proba(x)\n",
    "\n",
    "### AUC Evaluation\n",
    "auc = roc_auc_score(y, result[:,1])\n",
    "print(auc)"
   ]
  },
  {
   "cell_type": "code",
   "execution_count": 19,
   "metadata": {
    "collapsed": true
   },
   "outputs": [],
   "source": [
    "### Make Prediction for test set\n",
    "submission_lr = open(\"submission_lr.csv\", \"w\")\n",
    "submission_lr.write(\"Id,Prediction\\n\")\n",
    "\n",
    "preds_lr =  lr.predict_proba(test)[:,1]\n",
    "# for i in range(10):\n",
    "for i in range(len(preds_lr)):\n",
    "    submission_lr.write(\"%d,%.5f\\n\" % (i + 1, preds_lr[i]))\n",
    "    \n",
    "submission_lr.close()"
   ]
  },
  {
   "cell_type": "code",
   "execution_count": 155,
   "metadata": {
    "collapsed": false
   },
   "outputs": [
    {
     "data": {
      "text/html": [
       "<div>\n",
       "<table border=\"1\" class=\"dataframe\">\n",
       "  <thead>\n",
       "    <tr style=\"text-align: right;\">\n",
       "      <th></th>\n",
       "      <th>Weekday_0</th>\n",
       "      <th>Weekday_1</th>\n",
       "      <th>Weekday_2</th>\n",
       "      <th>Weekday_3</th>\n",
       "      <th>Weekday_4</th>\n",
       "      <th>Weekday_5</th>\n",
       "      <th>Weekday_6</th>\n",
       "      <th>City</th>\n",
       "      <th>Region</th>\n",
       "    </tr>\n",
       "  </thead>\n",
       "  <tbody>\n",
       "    <tr>\n",
       "      <th>0</th>\n",
       "      <td>0</td>\n",
       "      <td>0</td>\n",
       "      <td>0</td>\n",
       "      <td>0</td>\n",
       "      <td>0</td>\n",
       "      <td>0</td>\n",
       "      <td>1</td>\n",
       "      <td>1639</td>\n",
       "      <td>3090</td>\n",
       "    </tr>\n",
       "    <tr>\n",
       "      <th>1</th>\n",
       "      <td>0</td>\n",
       "      <td>0</td>\n",
       "      <td>0</td>\n",
       "      <td>0</td>\n",
       "      <td>0</td>\n",
       "      <td>0</td>\n",
       "      <td>1</td>\n",
       "      <td>2042</td>\n",
       "      <td>5584</td>\n",
       "    </tr>\n",
       "    <tr>\n",
       "      <th>2</th>\n",
       "      <td>0</td>\n",
       "      <td>0</td>\n",
       "      <td>0</td>\n",
       "      <td>0</td>\n",
       "      <td>0</td>\n",
       "      <td>0</td>\n",
       "      <td>1</td>\n",
       "      <td>930</td>\n",
       "      <td>5798</td>\n",
       "    </tr>\n",
       "    <tr>\n",
       "      <th>3</th>\n",
       "      <td>0</td>\n",
       "      <td>0</td>\n",
       "      <td>0</td>\n",
       "      <td>0</td>\n",
       "      <td>0</td>\n",
       "      <td>0</td>\n",
       "      <td>1</td>\n",
       "      <td>3439</td>\n",
       "      <td>11828</td>\n",
       "    </tr>\n",
       "    <tr>\n",
       "      <th>4</th>\n",
       "      <td>0</td>\n",
       "      <td>0</td>\n",
       "      <td>0</td>\n",
       "      <td>0</td>\n",
       "      <td>0</td>\n",
       "      <td>0</td>\n",
       "      <td>1</td>\n",
       "      <td>2922</td>\n",
       "      <td>11828</td>\n",
       "    </tr>\n",
       "  </tbody>\n",
       "</table>\n",
       "</div>"
      ],
      "text/plain": [
       "   Weekday_0  Weekday_1  Weekday_2  Weekday_3  Weekday_4  Weekday_5  \\\n",
       "0          0          0          0          0          0          0   \n",
       "1          0          0          0          0          0          0   \n",
       "2          0          0          0          0          0          0   \n",
       "3          0          0          0          0          0          0   \n",
       "4          0          0          0          0          0          0   \n",
       "\n",
       "   Weekday_6  City  Region  \n",
       "0          1  1639    3090  \n",
       "1          1  2042    5584  \n",
       "2          1   930    5798  \n",
       "3          1  3439   11828  \n",
       "4          1  2922   11828  "
      ]
     },
     "execution_count": 155,
     "metadata": {},
     "output_type": "execute_result"
    }
   ],
   "source": [
    "### GBRT feature engineering\n",
    "def city_transfer(x, dict):\n",
    "    return dict[int(x)]\n",
    "\n",
    "\n",
    "counts = train[\"City\"].value_counts()\n",
    "counts = dict(counts)\n",
    "city = train[\"City\"].apply(city_transfer, args=(counts,))\n",
    "\n",
    "counts = train[\"Region\"].value_counts()\n",
    "counts = dict(counts)\n",
    "region = train[\"Region\"].apply(city_transfer, args=(counts,))\n",
    "# print(city_transfer(1, counts))\n",
    "\n",
    "mytrain = pd.concat([weekdays, city,region], axis = 1)\n",
    "mytrain.head()\n"
   ]
  },
  {
   "cell_type": "code",
   "execution_count": 160,
   "metadata": {
    "collapsed": false
   },
   "outputs": [],
   "source": [
    "### GBRT\n",
    "\n",
    "X,x,Y,y = train_test_split(mytrain, train[\"Click\"], test_size = 0.1)\n",
    "     \n",
    "# lr = LogisticRegression(C=0.1)\n",
    "# lr.fit(X, Y)\n",
    "# print(\"The result of validation test is : %f\" % lr.score(x,y))\n",
    "### Predict class label for test samples\n",
    "# result = lr.predict_proba(x)\n",
    "# gbrt = GradientBoostingClassifier(n_estimators=100, learning_rate=1.0, max_depth=1, random_state=0).fit(X, Y)\n",
    "gbrt = GradientBoostingRegressor(n_estimators=50, learning_rate=0.05,max_depth=5).fit(X, Y)\n",
    "result = gbrt.predict(x)\n"
   ]
  },
  {
   "cell_type": "code",
   "execution_count": 162,
   "metadata": {
    "collapsed": false,
    "scrolled": true
   },
   "outputs": [
    {
     "name": "stdout",
     "output_type": "stream",
     "text": [
      "0.165817410448\n",
      "[ 0.00069302  0.0012038   0.00014953 ...,  0.00070083  0.00034424\n",
      "  0.00030705]\n"
     ]
    }
   ],
   "source": [
    "print max(result)\n",
    "print(result)"
   ]
  },
  {
   "cell_type": "code",
   "execution_count": 121,
   "metadata": {
    "collapsed": false,
    "scrolled": true
   },
   "outputs": [
    {
     "ename": "IndexError",
     "evalue": "too many indices for array",
     "output_type": "error",
     "traceback": [
      "\u001b[1;31m---------------------------------------------------------------------------\u001b[0m",
      "\u001b[1;31mIndexError\u001b[0m                                Traceback (most recent call last)",
      "\u001b[1;32m<ipython-input-121-6ca92980c2bb>\u001b[0m in \u001b[0;36m<module>\u001b[1;34m()\u001b[0m\n\u001b[1;32m----> 1\u001b[1;33m \u001b[1;32mprint\u001b[0m\u001b[1;33m(\u001b[0m\u001b[0mmax\u001b[0m\u001b[1;33m(\u001b[0m\u001b[0mresult\u001b[0m\u001b[1;33m[\u001b[0m\u001b[1;33m:\u001b[0m\u001b[1;33m,\u001b[0m\u001b[1;36m1\u001b[0m\u001b[1;33m]\u001b[0m\u001b[1;33m)\u001b[0m\u001b[1;33m)\u001b[0m\u001b[1;33m\u001b[0m\u001b[0m\n\u001b[0m\u001b[0;32m      2\u001b[0m \u001b[0mresult\u001b[0m\u001b[1;33m[\u001b[0m\u001b[1;33m:\u001b[0m\u001b[1;33m]\u001b[0m\u001b[1;33m\u001b[0m\u001b[0m\n\u001b[0;32m      3\u001b[0m \u001b[1;32mfor\u001b[0m \u001b[0mi\u001b[0m \u001b[1;32min\u001b[0m \u001b[0my\u001b[0m\u001b[1;33m:\u001b[0m\u001b[1;33m\u001b[0m\u001b[0m\n\u001b[0;32m      4\u001b[0m     \u001b[1;32mif\u001b[0m \u001b[0mi\u001b[0m \u001b[1;33m==\u001b[0m \u001b[1;36m1\u001b[0m\u001b[1;33m:\u001b[0m\u001b[1;33m\u001b[0m\u001b[0m\n\u001b[0;32m      5\u001b[0m         \u001b[1;32mprint\u001b[0m \u001b[0mi\u001b[0m\u001b[1;33m\u001b[0m\u001b[0m\n",
      "\u001b[1;31mIndexError\u001b[0m: too many indices for array"
     ]
    }
   ],
   "source": [
    "print(max(result[:,1]))\n",
    "result[:]\n",
    "for i in y:\n",
    "    if i == 1:\n",
    "        print i"
   ]
  }
 ],
 "metadata": {
  "kernelspec": {
   "display_name": "Python 2",
   "language": "python",
   "name": "python2"
  },
  "language_info": {
   "codemirror_mode": {
    "name": "ipython",
    "version": 2
   },
   "file_extension": ".py",
   "mimetype": "text/x-python",
   "name": "python",
   "nbconvert_exporter": "python",
   "pygments_lexer": "ipython2",
   "version": "2.7.11"
  }
 },
 "nbformat": 4,
 "nbformat_minor": 0
}
