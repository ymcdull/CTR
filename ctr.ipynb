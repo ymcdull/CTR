{
 "cells": [
  {
   "cell_type": "code",
   "execution_count": 133,
   "metadata": {
    "collapsed": false,
    "scrolled": true
   },
   "outputs": [],
   "source": [
    "import pandas as pd\n",
    "import numpy as np\n",
    "from sklearn.linear_model import LogisticRegression\n",
    "from sklearn.cross_validation import train_test_split\n",
    "\n",
    "np.set_printoptions(suppress=True,)"
   ]
  },
  {
   "cell_type": "code",
   "execution_count": 134,
   "metadata": {
    "collapsed": false
   },
   "outputs": [
    {
     "name": "stdout",
     "output_type": "stream",
     "text": [
      "['Click', 'Weekday', 'Hour', 'Timestamp', 'Log Type', 'User ID', 'User\\xe2\\x80\\x90Agent', 'IP', 'Region', 'City', 'Ad Exchange', 'Domain', 'URL', 'Anonymous URL ID', 'Ad slot ID', 'Ad slot width', 'Ad slot height', 'Ad slot visibility', 'Ad slot format', 'Ad slot floor price (RMB/CPM)', 'Creative ID', 'Key Page URL', 'Advertiser ID', 'User Tags']\n"
     ]
    }
   ],
   "source": [
    "header  = [\"Click\", \"Weekday\", \"Hour\", \"Timestamp\", \"Log Type\", \"User ID\", \"User‐Agent\", \"IP\", \"Region\", \"City\", \"Ad Exchange\", \"Domain\", \"URL\", \"Anonymous URL ID\", \"Ad slot ID\", \"Ad slot width\", \"Ad slot height\", \"Ad slot visibility\", \"Ad slot format\", \"Ad slot floor price (RMB/CPM)\", \"Creative ID\", \"Key Page URL\", \"Advertiser ID\", \"User Tags\"]\n",
    "print(alist)"
   ]
  },
  {
   "cell_type": "code",
   "execution_count": 135,
   "metadata": {
    "collapsed": false,
    "scrolled": false
   },
   "outputs": [],
   "source": [
    "trainfile = 'trainhead100000.txt'\n",
    "testfile = 'testhead.txt'\n",
    "\n",
    "train = pd.read_csv(trainfile, header = None, sep = '\\t', names = header)\n",
    "test = pd.read_csv(testfile, header = None, sep = '\\t', names = header[1:])\n",
    "\n",
    "### Show head lines of files\n",
    "# print(train.head())\n",
    "#print(test.head())\n",
    "\n",
    "### output to csv file\n",
    "# train.head().to_csv('out.csv', sep = '\\t')"
   ]
  },
  {
   "cell_type": "code",
   "execution_count": 136,
   "metadata": {
    "collapsed": false
   },
   "outputs": [],
   "source": [
    "### Check the structure of input files\n",
    "# print(train.describe())\n",
    "# print(train.shape)"
   ]
  },
  {
   "cell_type": "code",
   "execution_count": 137,
   "metadata": {
    "collapsed": false
   },
   "outputs": [
    {
     "name": "stdout",
     "output_type": "stream",
     "text": [
      "The result of validation test is : 0.999300\n"
     ]
    }
   ],
   "source": [
    "### Logistic Regression\n",
    "mytrain = train.ix[:, [1,2,8,9,10,15,16,17,18]]\n",
    "mytest = test.ix[:, [0,1,7,8,9,14,15,16,17]]\n",
    "#print(mytest.describe())\n",
    "\n",
    "X,x,Y,y = train_test_split(mytrain, train[\"Click\"], test_size = 0.1)\n",
    "\n",
    "lr = LogisticRegression(C = 1e+5)\n",
    "lr.fit(X, Y)\n",
    "print(\"The result of validation test is : %f\" % lr.score(x,y))\n",
    "### Predict class label for test samples\n",
    "# result = lr.predict(mytest)\n",
    "\n",
    "### Predict probability for each class label\n",
    "#result = lr.predict_proba(mytest)\n",
    "\n",
    "#print(result[:100, 1])"
   ]
  }
 ],
 "metadata": {
  "kernelspec": {
   "display_name": "Python 2",
   "language": "python",
   "name": "python2"
  },
  "language_info": {
   "codemirror_mode": {
    "name": "ipython",
    "version": 2
   },
   "file_extension": ".py",
   "mimetype": "text/x-python",
   "name": "python",
   "nbconvert_exporter": "python",
   "pygments_lexer": "ipython2",
   "version": "2.7.11"
  }
 },
 "nbformat": 4,
 "nbformat_minor": 0
}
