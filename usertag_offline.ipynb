{
 "cells": [
  {
   "cell_type": "code",
   "execution_count": 7,
   "metadata": {
    "collapsed": true
   },
   "outputs": [],
   "source": [
    "import pandas as pd"
   ]
  },
  {
   "cell_type": "code",
   "execution_count": 8,
   "metadata": {
    "collapsed": false
   },
   "outputs": [
    {
     "name": "stdout",
     "output_type": "stream",
     "text": [
      "['Click', 'Weekday', 'Hour', 'Timestamp', 'Log Type', 'User ID', 'User\\xe2\\x80\\x90Agent', 'IP', 'Region', 'City', 'Ad Exchange', 'Domain', 'URL', 'Anonymous URL ID', 'Ad slot ID', 'Ad slot width', 'Ad slot height', 'Ad slot visibility', 'Ad slot format', 'Ad slot floor price (RMB/CPM)', 'Creative ID', 'Key Page URL', 'Advertiser ID', 'User Tags']\n",
      "done\n"
     ]
    }
   ],
   "source": [
    "### Read train and test files\n",
    "header  = [\"Click\", \"Weekday\", \"Hour\", \"Timestamp\", \"Log Type\", \"User ID\", \"User‐Agent\", \"IP\", \"Region\", \"City\", \"Ad Exchange\", \"Domain\", \"URL\", \"Anonymous URL ID\", \"Ad slot ID\", \"Ad slot width\", \"Ad slot height\", \"Ad slot visibility\", \"Ad slot format\", \"Ad slot floor price (RMB/CPM)\", \"Creative ID\", \"Key Page URL\", \"Advertiser ID\", \"User Tags\"]\n",
    "print(header)\n",
    "\n",
    "trainfile = 'train_sample.txt'\n",
    "testfile = 'test.txt'\n",
    "\n",
    "train = pd.read_csv(trainfile, header = None, sep = '\\t', names = header)\n",
    "test = pd.read_csv(testfile, header = None, sep = '\\t', names = header[1:])\n",
    "\n",
    "print(\"done\")"
   ]
  },
  {
   "cell_type": "code",
   "execution_count": 9,
   "metadata": {
    "collapsed": false
   },
   "outputs": [
    {
     "name": "stdout",
     "output_type": "stream",
     "text": [
      "67\n",
      "['10063', '10024', '10059', '10006', '10052', '10111', '10110', '10057', '10083', '10077', '14273', '13800', '10075', '13776', '13866', '10093', '16661', '11379', '13496', '13042', '10031', '11944', '13403', '13678', '10079', '10048', '10076', '10067', '10102', '10074', '11724', '16706', '10684', '11423', '11278', '13874', '11092', '16617', '11576', '11512', '11680', '16593', '11632', '10116', '10149', '10126', '10129', '10120', '10114', '10115', '10127', '10148', '10125', '10117', '10131', '10118', '10133', '10123', '10146', '10142', '10145', '10130', '10140', '10138', '10147', '15398', '16753']\n"
     ]
    }
   ],
   "source": [
    "### Get all user tags into user_all list\n",
    "def get_user_list(prelist, inlist):\n",
    "    \n",
    "    for tag in inlist:\n",
    "        if tag == 'null':\n",
    "            pass\n",
    "        else:\n",
    "            taglist = tag.strip().split(',')\n",
    "            for t in taglist:\n",
    "                if t not in prelist:\n",
    "                    prelist.append(t)\n",
    "    return prelist\n",
    "\n",
    "user_train = get_user_list([], train[\"User Tags\"])\n",
    "user_all = get_user_list(user_train, test[\"User Tags\"])\n",
    "\n",
    "print(len(user_all))\n",
    "print(user_all)"
   ]
  },
  {
   "cell_type": "code",
   "execution_count": 10,
   "metadata": {
    "collapsed": false
   },
   "outputs": [
    {
     "name": "stdout",
     "output_type": "stream",
     "text": [
      "['10006', '10024', '10031', '10048', '10052', '10057', '10059', '10063', '10067', '10074', '10075', '10076', '10077', '10079', '10083', '10093', '10102', '10110', '10111', '10114', '10115', '10116', '10117', '10118', '10120', '10123', '10125', '10126', '10127', '10129', '10130', '10131', '10133', '10138', '10140', '10142', '10145', '10146', '10147', '10148', '10149', '10684', '11092', '11278', '11379', '11423', '11512', '11576', '11632', '11680', '11724', '11944', '13042', '13403', '13496', '13678', '13776', '13800', '13866', '13874', '14273', '15398', '16593', '16617', '16661', '16706', '16753']\n"
     ]
    }
   ],
   "source": [
    "### sort user_all list\n",
    "user_all = sorted(user_all)\n",
    "print(user_all)"
   ]
  },
  {
   "cell_type": "code",
   "execution_count": 11,
   "metadata": {
    "collapsed": false
   },
   "outputs": [],
   "source": [
    "### Generate dictionary, key-value pair : usertag - index\n",
    "length = len(user_all)\n",
    "user_dict = {}\n",
    "for i in range(len(user_all)):\n",
    "    user_dict[user_all[i]] = i\n",
    "\n",
    "### function to write user tags for train and test respectively\n",
    "def write_usertags(filename, data):\n",
    "    outfile = open(filename, 'w')\n",
    "    \n",
    "    ### Write header\n",
    "    outfile.write(' '.join(['Usertag_' + x for x in user_all]) + '\\n')\n",
    "\n",
    "    for line in data:\n",
    "        zeros = ['0'] * length\n",
    "        if line == 'null':\n",
    "            pass\n",
    "        else:\n",
    "            taglist = line.split(',')\n",
    "            for tag in taglist:\n",
    "                zeros[user_dict[tag]] = '1'\n",
    "\n",
    "        outfile.write(' '.join(zeros) + '\\n')\n",
    "\n",
    "    outfile.close()\n",
    "\n",
    "write_usertags('usertags_train.txt', train[\"User Tags\"])\n",
    "write_usertags('usertags_test.txt', test[\"User Tags\"])"
   ]
  },
  {
   "cell_type": "code",
   "execution_count": 12,
   "metadata": {
    "collapsed": false
   },
   "outputs": [],
   "source": [
    "# ### pandas read_csv test\n",
    "# readtest = 'usertags.csv'\n",
    "# tt = pd.read_csv(readtest, sep = ' ')\n",
    "# print(tt.head())\n",
    "# print(tt.shape)"
   ]
  }
 ],
 "metadata": {
  "kernelspec": {
   "display_name": "Python 2",
   "language": "python",
   "name": "python2"
  },
  "language_info": {
   "codemirror_mode": {
    "name": "ipython",
    "version": 2
   },
   "file_extension": ".py",
   "mimetype": "text/x-python",
   "name": "python",
   "nbconvert_exporter": "python",
   "pygments_lexer": "ipython2",
   "version": "2.7.11"
  }
 },
 "nbformat": 4,
 "nbformat_minor": 0
}
