{
 "cells": [
  {
   "cell_type": "code",
   "execution_count": 41,
   "metadata": {
    "collapsed": false,
    "scrolled": true
   },
   "outputs": [],
   "source": [
    "import pandas as pd\n",
    "import numpy as np\n",
    "from sklearn.linear_model import LogisticRegression\n",
    "from sklearn.cross_validation import train_test_split\n",
    "import random\n",
    "from sklearn.ensemble import GradientBoostingRegressor\n",
    "from sklearn.metrics import auc\n",
    "from sklearn.metrics import roc_auc_score\n",
    "from sklearn.metrics import mean_squared_error\n",
    "\n",
    "np.set_printoptions(suppress=True)"
   ]
  },
  {
   "cell_type": "code",
   "execution_count": 42,
   "metadata": {
    "collapsed": false
   },
   "outputs": [
    {
     "name": "stdout",
     "output_type": "stream",
     "text": [
      "['Click', 'Weekday', 'Hour', 'Timestamp', 'Log Type', 'User ID', 'User\\xe2\\x80\\x90Agent', 'IP', 'Region', 'City', 'Ad Exchange', 'Domain', 'URL', 'Anonymous URL ID', 'Ad slot ID', 'Ad slot width', 'Ad slot height', 'Ad slot visibility', 'Ad slot format', 'Ad slot floor price (RMB/CPM)', 'Creative ID', 'Key Page URL', 'Advertiser ID', 'User Tags']\n"
     ]
    }
   ],
   "source": [
    "header  = [\"Click\", \"Weekday\", \"Hour\", \"Timestamp\", \"Log Type\", \"User ID\", \"User‐Agent\", \"IP\", \"Region\", \"City\", \"Ad Exchange\", \"Domain\", \"URL\", \"Anonymous URL ID\", \"Ad slot ID\", \"Ad slot width\", \"Ad slot height\", \"Ad slot visibility\", \"Ad slot format\", \"Ad slot floor price (RMB/CPM)\", \"Creative ID\", \"Key Page URL\", \"Advertiser ID\", \"User Tags\"]\n",
    "print(header)"
   ]
  },
  {
   "cell_type": "code",
   "execution_count": 43,
   "metadata": {
    "collapsed": false,
    "scrolled": false
   },
   "outputs": [
    {
     "name": "stdout",
     "output_type": "stream",
     "text": [
      "   Click  Weekday  Hour          Timestamp  Log Type          User ID  \\\n",
      "0      0        6     0  20130606000104589         1  VhkS1DK53UjsBVL   \n",
      "1      0        6     0  20130606000104622         1  VhL0O5FD32m63hl   \n",
      "2      0        6     0  20130606000104809         1  Vhk7ZAnxD9lfQoL   \n",
      "3      0        6     0  20130606000104878         1  Vhk7ZAnx3Tmdjda   \n",
      "4      0        6     0  20130606000104991         1  Vhk7ZAnx3cB9tbc   \n",
      "\n",
      "   User‐Agent             IP  Region  City  \\\n",
      "0  windows_ie  221.228.142.*      80    82   \n",
      "1  windows_ie     221.10.5.*     276   277   \n",
      "2  windows_ie    60.160.94.*     308   321   \n",
      "3  windows_ie    210.21.84.*     216   217   \n",
      "4  windows_ie  222.243.167.*     201   204   \n",
      "\n",
      "                  ...                                     Ad slot ID  \\\n",
      "0                 ...                    mm_14539978_2071324_8355258   \n",
      "1                 ...                   mm_24597501_3474831_11374379   \n",
      "2                 ...                    mm_27762412_2408764_9403472   \n",
      "3                 ...                                     2226130719   \n",
      "4                 ...                    mm_10839307_2308336_9004871   \n",
      "\n",
      "  Ad slot width Ad slot height Ad slot visibility Ad slot format  \\\n",
      "0           300            250                  1              1   \n",
      "1           300            250                  0              1   \n",
      "2           300            250                  2              1   \n",
      "3           468             60                  1              0   \n",
      "4           300            250                  2              1   \n",
      "\n",
      "   Ad slot floor price (RMB/CPM)                       Creative ID  \\\n",
      "0                              0  44966cc8da1ed40c95d59e863c8c75f0   \n",
      "1                              0  44966cc8da1ed40c95d59e863c8c75f0   \n",
      "2                              0  44966cc8da1ed40c95d59e863c8c75f0   \n",
      "3                              5  2f88fc9cf0141b5bbaf251cab07f4ce7   \n",
      "4                              0  44966cc8da1ed40c95d59e863c8c75f0   \n",
      "\n",
      "                       Key Page URL  Advertiser ID  \\\n",
      "0  361e128affece850342293213691a043           3386   \n",
      "1  361e128affece850342293213691a043           3386   \n",
      "2  361e128affece850342293213691a043           3386   \n",
      "3  361e128affece850342293213691a043           3386   \n",
      "4  361e128affece850342293213691a043           3386   \n",
      "\n",
      "                             User Tags  \n",
      "0  10083,10006,10063,10024,13403,10110  \n",
      "1                    10063,10067,10006  \n",
      "2                                10076  \n",
      "3                                 null  \n",
      "4                    10063,10083,10110  \n",
      "\n",
      "[5 rows x 24 columns]\n"
     ]
    }
   ],
   "source": [
    "trainfile = 'train_sample.txt'\n",
    "testfile = 'test.txt'\n",
    "\n",
    "train = pd.read_csv(trainfile, header = None, sep = '\\t', names = header)\n",
    "test = pd.read_csv(testfile, header = None, sep = '\\t', names = header[1:])\n",
    "\n",
    "trainlen = len(train)\n",
    "testlen = len(test)\n",
    "\n",
    "### Show head lines of files\n",
    "print(train.head())"
   ]
  },
  {
   "cell_type": "code",
   "execution_count": 44,
   "metadata": {
    "collapsed": false
   },
   "outputs": [
    {
     "name": "stdout",
     "output_type": "stream",
     "text": [
      "(500000, 23)\n",
      "(545421, 23)\n",
      "(1045421, 23)\n"
     ]
    }
   ],
   "source": [
    "### Combine train and test to re-factor the structure and build binary features for logistic regression\n",
    "print train.iloc[:,1:].shape\n",
    "print test.shape\n",
    "all_data = pd.concat([train.iloc[:,1:], test], axis=0)\n",
    "print(all_data.shape)"
   ]
  },
  {
   "cell_type": "code",
   "execution_count": 45,
   "metadata": {
    "collapsed": false
   },
   "outputs": [],
   "source": [
    "### Feature splitting for combining data\n",
    "### Test for pd.get_dummies\n",
    "\n",
    "### Expand Weekdays\n",
    "weekdays = pd.get_dummies(all_data[\"Weekday\"], prefix = \"Weekday\")\n",
    "\n",
    "### Expand Hour\n",
    "hour = pd.get_dummies(all_data[\"Hour\"], prefix = \"Hour\")\n",
    "\n",
    "### Expand OS and Browser\n",
    "os_and_browser = all_data[\"User‐Agent\"].str.split(\"_\", expand = True)\n",
    "os = os_and_browser[0]\n",
    "browser = os_and_browser[1]\n",
    "os_dummies = pd.get_dummies(os, prefix=\"OS\")\n",
    "browser_dummies = pd.get_dummies(browser, prefix=\"Browser\")\n",
    "\n",
    "### Expand floor price\n",
    "def price_transfer(x):\n",
    "  if x == 0:\n",
    "    return '0'\n",
    "  elif x >= 1 and x <= 10:\n",
    "    return '1-10'\n",
    "  elif x >= 11 and x <= 50:\n",
    "    return '11-50'\n",
    "  elif x >= 51 and x <= 100:\n",
    "    return '51-100'\n",
    "  else:\n",
    "    return 'larger'\n",
    "\n",
    "### Directly use dataframe method 'apply' to process series, instead of using map and lambda\n",
    "floor_price = all_data[\"Ad slot floor price (RMB/CPM)\"].astype(int).apply(price_transfer)\n",
    "# floor_price = map(lambda price: price_transfer(price), train[\"Ad slot floor price (RMB/CPM)\"].astype(int))\n",
    "\n",
    "floor_price = pd.get_dummies(floor_price, prefix = \"Price\")"
   ]
  },
  {
   "cell_type": "code",
   "execution_count": 46,
   "metadata": {
    "collapsed": false
   },
   "outputs": [
    {
     "name": "stdout",
     "output_type": "stream",
     "text": [
      "(500000, 51)\n"
     ]
    },
    {
     "data": {
      "text/html": [
       "<div>\n",
       "<table border=\"1\" class=\"dataframe\">\n",
       "  <thead>\n",
       "    <tr style=\"text-align: right;\">\n",
       "      <th></th>\n",
       "      <th>Weekday_0</th>\n",
       "      <th>Weekday_1</th>\n",
       "      <th>Weekday_2</th>\n",
       "      <th>Weekday_3</th>\n",
       "      <th>Weekday_4</th>\n",
       "      <th>Weekday_5</th>\n",
       "      <th>Weekday_6</th>\n",
       "      <th>Hour_0</th>\n",
       "      <th>Hour_1</th>\n",
       "      <th>Hour_2</th>\n",
       "      <th>...</th>\n",
       "      <th>Browser_opera</th>\n",
       "      <th>Browser_other</th>\n",
       "      <th>Browser_safari</th>\n",
       "      <th>Browser_sogou</th>\n",
       "      <th>Browser_theworld</th>\n",
       "      <th>Price_0</th>\n",
       "      <th>Price_1-10</th>\n",
       "      <th>Price_11-50</th>\n",
       "      <th>Price_51-100</th>\n",
       "      <th>Price_larger</th>\n",
       "    </tr>\n",
       "  </thead>\n",
       "  <tbody>\n",
       "    <tr>\n",
       "      <th>0</th>\n",
       "      <td>0</td>\n",
       "      <td>0</td>\n",
       "      <td>0</td>\n",
       "      <td>0</td>\n",
       "      <td>0</td>\n",
       "      <td>0</td>\n",
       "      <td>1</td>\n",
       "      <td>1</td>\n",
       "      <td>0</td>\n",
       "      <td>0</td>\n",
       "      <td>...</td>\n",
       "      <td>0</td>\n",
       "      <td>0</td>\n",
       "      <td>0</td>\n",
       "      <td>0</td>\n",
       "      <td>0</td>\n",
       "      <td>1</td>\n",
       "      <td>0</td>\n",
       "      <td>0</td>\n",
       "      <td>0</td>\n",
       "      <td>0</td>\n",
       "    </tr>\n",
       "    <tr>\n",
       "      <th>1</th>\n",
       "      <td>0</td>\n",
       "      <td>0</td>\n",
       "      <td>0</td>\n",
       "      <td>0</td>\n",
       "      <td>0</td>\n",
       "      <td>0</td>\n",
       "      <td>1</td>\n",
       "      <td>1</td>\n",
       "      <td>0</td>\n",
       "      <td>0</td>\n",
       "      <td>...</td>\n",
       "      <td>0</td>\n",
       "      <td>0</td>\n",
       "      <td>0</td>\n",
       "      <td>0</td>\n",
       "      <td>0</td>\n",
       "      <td>1</td>\n",
       "      <td>0</td>\n",
       "      <td>0</td>\n",
       "      <td>0</td>\n",
       "      <td>0</td>\n",
       "    </tr>\n",
       "    <tr>\n",
       "      <th>2</th>\n",
       "      <td>0</td>\n",
       "      <td>0</td>\n",
       "      <td>0</td>\n",
       "      <td>0</td>\n",
       "      <td>0</td>\n",
       "      <td>0</td>\n",
       "      <td>1</td>\n",
       "      <td>1</td>\n",
       "      <td>0</td>\n",
       "      <td>0</td>\n",
       "      <td>...</td>\n",
       "      <td>0</td>\n",
       "      <td>0</td>\n",
       "      <td>0</td>\n",
       "      <td>0</td>\n",
       "      <td>0</td>\n",
       "      <td>1</td>\n",
       "      <td>0</td>\n",
       "      <td>0</td>\n",
       "      <td>0</td>\n",
       "      <td>0</td>\n",
       "    </tr>\n",
       "    <tr>\n",
       "      <th>3</th>\n",
       "      <td>0</td>\n",
       "      <td>0</td>\n",
       "      <td>0</td>\n",
       "      <td>0</td>\n",
       "      <td>0</td>\n",
       "      <td>0</td>\n",
       "      <td>1</td>\n",
       "      <td>1</td>\n",
       "      <td>0</td>\n",
       "      <td>0</td>\n",
       "      <td>...</td>\n",
       "      <td>0</td>\n",
       "      <td>0</td>\n",
       "      <td>0</td>\n",
       "      <td>0</td>\n",
       "      <td>0</td>\n",
       "      <td>0</td>\n",
       "      <td>1</td>\n",
       "      <td>0</td>\n",
       "      <td>0</td>\n",
       "      <td>0</td>\n",
       "    </tr>\n",
       "    <tr>\n",
       "      <th>4</th>\n",
       "      <td>0</td>\n",
       "      <td>0</td>\n",
       "      <td>0</td>\n",
       "      <td>0</td>\n",
       "      <td>0</td>\n",
       "      <td>0</td>\n",
       "      <td>1</td>\n",
       "      <td>1</td>\n",
       "      <td>0</td>\n",
       "      <td>0</td>\n",
       "      <td>...</td>\n",
       "      <td>0</td>\n",
       "      <td>0</td>\n",
       "      <td>0</td>\n",
       "      <td>0</td>\n",
       "      <td>0</td>\n",
       "      <td>1</td>\n",
       "      <td>0</td>\n",
       "      <td>0</td>\n",
       "      <td>0</td>\n",
       "      <td>0</td>\n",
       "    </tr>\n",
       "  </tbody>\n",
       "</table>\n",
       "<p>5 rows × 51 columns</p>\n",
       "</div>"
      ],
      "text/plain": [
       "   Weekday_0  Weekday_1  Weekday_2  Weekday_3  Weekday_4  Weekday_5  \\\n",
       "0          0          0          0          0          0          0   \n",
       "1          0          0          0          0          0          0   \n",
       "2          0          0          0          0          0          0   \n",
       "3          0          0          0          0          0          0   \n",
       "4          0          0          0          0          0          0   \n",
       "\n",
       "   Weekday_6  Hour_0  Hour_1  Hour_2      ...       Browser_opera  \\\n",
       "0          1       1       0       0      ...                   0   \n",
       "1          1       1       0       0      ...                   0   \n",
       "2          1       1       0       0      ...                   0   \n",
       "3          1       1       0       0      ...                   0   \n",
       "4          1       1       0       0      ...                   0   \n",
       "\n",
       "   Browser_other  Browser_safari  Browser_sogou  Browser_theworld  Price_0  \\\n",
       "0              0               0              0                 0        1   \n",
       "1              0               0              0                 0        1   \n",
       "2              0               0              0                 0        1   \n",
       "3              0               0              0                 0        0   \n",
       "4              0               0              0                 0        1   \n",
       "\n",
       "   Price_1-10  Price_11-50  Price_51-100  Price_larger  \n",
       "0           0            0             0             0  \n",
       "1           0            0             0             0  \n",
       "2           0            0             0             0  \n",
       "3           1            0             0             0  \n",
       "4           0            0             0             0  \n",
       "\n",
       "[5 rows x 51 columns]"
      ]
     },
     "execution_count": 46,
     "metadata": {},
     "output_type": "execute_result"
    }
   ],
   "source": [
    "### Combining features and split all_data to train and test\n",
    "all_data_dummies = pd.concat([weekdays, hour, os_dummies, browser_dummies, floor_price], axis = 1)\n",
    "mytrain = all_data_dummies.iloc[:trainlen]\n",
    "test = all_data_dummies.iloc[trainlen:]\n",
    "print(mytrain.shape)\n",
    "mytrain.head()"
   ]
  },
  {
   "cell_type": "code",
   "execution_count": 47,
   "metadata": {
    "collapsed": false
   },
   "outputs": [
    {
     "data": {
      "text/plain": [
       "(545421, 118)"
      ]
     },
     "execution_count": 47,
     "metadata": {},
     "output_type": "execute_result"
    }
   ],
   "source": [
    "### Read user tags features from csv file\n",
    "usertagsfile = 'usertags_train.txt'\n",
    "usertags_train = pd.read_csv(usertagsfile, sep = ' ')\n",
    "usertagsfile = 'usertags_test.txt'\n",
    "usertags_test = pd.read_csv(usertagsfile, sep = ' ')\n",
    "\n",
    "mytrain = pd.concat([mytrain, usertags_train], axis = 1)\n",
    "test = pd.concat([test, usertags_test], axis = 1)\n",
    "test.shape"
   ]
  },
  {
   "cell_type": "code",
   "execution_count": 48,
   "metadata": {
    "collapsed": false
   },
   "outputs": [],
   "source": [
    "### Logistic Regression\n",
    "X,x,Y,y = train_test_split(mytrain, train[\"Click\"], test_size = 0.1)\n",
    "     \n",
    "lr = LogisticRegression(C=0.1)\n",
    "lr.fit(X, Y)\n",
    "result = lr.predict_proba(x)"
   ]
  },
  {
   "cell_type": "code",
   "execution_count": 49,
   "metadata": {
    "collapsed": false
   },
   "outputs": [
    {
     "name": "stdout",
     "output_type": "stream",
     "text": [
      "0.671194649036\n"
     ]
    }
   ],
   "source": [
    "### AUC Evaluation\n",
    "auc = roc_auc_score(y, result[:,1])\n",
    "print(auc)"
   ]
  },
  {
   "cell_type": "code",
   "execution_count": 50,
   "metadata": {
    "collapsed": false
   },
   "outputs": [
    {
     "name": "stdout",
     "output_type": "stream",
     "text": [
      "0.000713610092193\n"
     ]
    }
   ],
   "source": [
    "### MSE Evaluation\n",
    "mse = mean_squared_error(y, result[:,1])\n",
    "print(mse)"
   ]
  },
  {
   "cell_type": "code",
   "execution_count": 79,
   "metadata": {
    "collapsed": true
   },
   "outputs": [],
   "source": [
    "### Make Prediction for test set\n",
    "preds_lr =  lr.predict_proba(test)[:,1]\n",
    "\n",
    "def write_prediction(filename, preds):\n",
    "    submission = open(filename, \"w\")\n",
    "    submission.write(\"Id,Prediction\\n\")\n",
    "\n",
    "    # for i in range(10):\n",
    "    for i in range(len(preds)):\n",
    "        submission.write(\"%d,%.5f\\n\" % (i + 1, preds[i]))\n",
    "\n",
    "    submission.close()\n",
    "\n",
    "write_prediction(\"submission_lr.csv\", preds_lr)"
   ]
  },
  {
   "cell_type": "code",
   "execution_count": 56,
   "metadata": {
    "collapsed": false
   },
   "outputs": [],
   "source": [
    "### GBRT feature engineering\n",
    "def transfer(x, dict):\n",
    "    return dict[x]\n",
    "\n",
    "\n",
    "counts = all_data[\"City\"].value_counts()\n",
    "counts = dict(counts)\n",
    "city = all_data[\"City\"].apply(transfer, args=(counts,))\n",
    "\n",
    "counts = all_data[\"Region\"].value_counts()\n",
    "counts = dict(counts)\n",
    "region = all_data[\"Region\"].apply(transfer, args=(counts,))\n",
    "# print(city_transfer(1, counts))"
   ]
  },
  {
   "cell_type": "code",
   "execution_count": 61,
   "metadata": {
    "collapsed": false
   },
   "outputs": [],
   "source": [
    "counts = os.value_counts()\n",
    "counts = dict(counts)\n",
    "os_freq = os.apply(transfer, args=(counts,))\n",
    "counts = browser.value_counts()\n",
    "counts = dict(counts)\n",
    "browser_freq = browser.apply(transfer, args=(counts,))\n"
   ]
  },
  {
   "cell_type": "code",
   "execution_count": 65,
   "metadata": {
    "collapsed": false
   },
   "outputs": [
    {
     "data": {
      "text/plain": [
       "(1045421, 7)"
      ]
     },
     "execution_count": 65,
     "metadata": {},
     "output_type": "execute_result"
    }
   ],
   "source": [
    "gbrt_all_data = pd.concat([all_data[\"Weekday\"], all_data[\"Hour\"], os_freq, browser_freq, city,region, all_data[\"Ad slot floor price (RMB/CPM)\"]], axis = 1)\n",
    "gbrt_all_data.shape"
   ]
  },
  {
   "cell_type": "code",
   "execution_count": 66,
   "metadata": {
    "collapsed": false
   },
   "outputs": [
    {
     "name": "stdout",
     "output_type": "stream",
     "text": [
      "(500000, 7)\n"
     ]
    },
    {
     "data": {
      "text/html": [
       "<div>\n",
       "<table border=\"1\" class=\"dataframe\">\n",
       "  <thead>\n",
       "    <tr style=\"text-align: right;\">\n",
       "      <th></th>\n",
       "      <th>Weekday</th>\n",
       "      <th>Hour</th>\n",
       "      <th>0</th>\n",
       "      <th>1</th>\n",
       "      <th>City</th>\n",
       "      <th>Region</th>\n",
       "      <th>Ad slot floor price (RMB/CPM)</th>\n",
       "    </tr>\n",
       "  </thead>\n",
       "  <tbody>\n",
       "    <tr>\n",
       "      <th>0</th>\n",
       "      <td>1</td>\n",
       "      <td>6</td>\n",
       "      <td>1019875</td>\n",
       "      <td>337416</td>\n",
       "      <td>1161</td>\n",
       "      <td>21820</td>\n",
       "      <td>0</td>\n",
       "    </tr>\n",
       "    <tr>\n",
       "      <th>1</th>\n",
       "      <td>6</td>\n",
       "      <td>0</td>\n",
       "      <td>1019875</td>\n",
       "      <td>658381</td>\n",
       "      <td>17457</td>\n",
       "      <td>32077</td>\n",
       "      <td>5</td>\n",
       "    </tr>\n",
       "    <tr>\n",
       "      <th>2</th>\n",
       "      <td>1</td>\n",
       "      <td>16</td>\n",
       "      <td>1019875</td>\n",
       "      <td>658381</td>\n",
       "      <td>15665</td>\n",
       "      <td>83404</td>\n",
       "      <td>0</td>\n",
       "    </tr>\n",
       "    <tr>\n",
       "      <th>3</th>\n",
       "      <td>6</td>\n",
       "      <td>23</td>\n",
       "      <td>1019875</td>\n",
       "      <td>658381</td>\n",
       "      <td>24669</td>\n",
       "      <td>61313</td>\n",
       "      <td>5</td>\n",
       "    </tr>\n",
       "    <tr>\n",
       "      <th>4</th>\n",
       "      <td>6</td>\n",
       "      <td>20</td>\n",
       "      <td>1019875</td>\n",
       "      <td>337416</td>\n",
       "      <td>53926</td>\n",
       "      <td>53926</td>\n",
       "      <td>20</td>\n",
       "    </tr>\n",
       "  </tbody>\n",
       "</table>\n",
       "</div>"
      ],
      "text/plain": [
       "   Weekday  Hour        0       1   City  Region  \\\n",
       "0        1     6  1019875  337416   1161   21820   \n",
       "1        6     0  1019875  658381  17457   32077   \n",
       "2        1    16  1019875  658381  15665   83404   \n",
       "3        6    23  1019875  658381  24669   61313   \n",
       "4        6    20  1019875  337416  53926   53926   \n",
       "\n",
       "   Ad slot floor price (RMB/CPM)  \n",
       "0                              0  \n",
       "1                              5  \n",
       "2                              0  \n",
       "3                              5  \n",
       "4                             20  "
      ]
     },
     "execution_count": 66,
     "metadata": {},
     "output_type": "execute_result"
    }
   ],
   "source": [
    "### Split to train and test\n",
    "gbrt_train = gbrt_all_data.iloc[:trainlen]\n",
    "gbrt_test = gbrt_all_data.iloc[trainlen:]\n",
    "print(gbrt_train.shape)\n",
    "gbrt_test.head()"
   ]
  },
  {
   "cell_type": "code",
   "execution_count": 76,
   "metadata": {
    "collapsed": false
   },
   "outputs": [],
   "source": [
    "### GBRT\n",
    "X,x,Y,y = train_test_split(gbrt_train, train[\"Click\"], test_size = 0.1)\n",
    "     \n",
    "### Based on the Paper \"RTB benchmarking with iPingyou dataset\" to set attributes\n",
    "gbrt = GradientBoostingRegressor(n_estimators=50, learning_rate=0.05,max_depth=5).fit(X, Y)\n",
    "gbrt_result = gbrt.predict(x)"
   ]
  },
  {
   "cell_type": "code",
   "execution_count": 77,
   "metadata": {
    "collapsed": false
   },
   "outputs": [
    {
     "name": "stdout",
     "output_type": "stream",
     "text": [
      "0.691459333476\n"
     ]
    }
   ],
   "source": [
    "### AUC Evaluation\n",
    "auc = roc_auc_score(y, gbrt_result)\n",
    "print(auc)"
   ]
  },
  {
   "cell_type": "code",
   "execution_count": 78,
   "metadata": {
    "collapsed": false
   },
   "outputs": [
    {
     "name": "stdout",
     "output_type": "stream",
     "text": [
      "0.000938282332524\n"
     ]
    }
   ],
   "source": [
    "### MSE Evaluation\n",
    "mse = mean_squared_error(y, gbrt_result)\n",
    "print(mse)"
   ]
  },
  {
   "cell_type": "code",
   "execution_count": 82,
   "metadata": {
    "collapsed": false
   },
   "outputs": [],
   "source": [
    "### Predict and Write to prediction file\n",
    "preds_gbrt = gbrt.predict(gbrt_test)\n",
    "write_prediction(\"submission_gbrt.csv\", preds_gbrt)\n",
    "# print preds_gbrt"
   ]
  }
 ],
 "metadata": {
  "kernelspec": {
   "display_name": "Python 2",
   "language": "python",
   "name": "python2"
  },
  "language_info": {
   "codemirror_mode": {
    "name": "ipython",
    "version": 2
   },
   "file_extension": ".py",
   "mimetype": "text/x-python",
   "name": "python",
   "nbconvert_exporter": "python",
   "pygments_lexer": "ipython2",
   "version": "2.7.11"
  }
 },
 "nbformat": 4,
 "nbformat_minor": 0
}
