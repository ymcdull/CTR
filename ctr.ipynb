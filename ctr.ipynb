{
 "cells": [
  {
   "cell_type": "code",
   "execution_count": 1,
   "metadata": {
    "collapsed": false,
    "scrolled": true
   },
   "outputs": [],
   "source": [
    "import pandas as pd\n",
    "import numpy as np\n",
    "from sklearn.linear_model import LogisticRegression\n",
    "from sklearn.cross_validation import train_test_split\n",
    "import random\n",
    "\n",
    "np.set_printoptions(suppress=True)"
   ]
  },
  {
   "cell_type": "code",
   "execution_count": 2,
   "metadata": {
    "collapsed": false
   },
   "outputs": [
    {
     "name": "stdout",
     "output_type": "stream",
     "text": [
      "['Click', 'Weekday', 'Hour', 'Timestamp', 'Log Type', 'User ID', 'User\\xe2\\x80\\x90Agent', 'IP', 'Region', 'City', 'Ad Exchange', 'Domain', 'URL', 'Anonymous URL ID', 'Ad slot ID', 'Ad slot width', 'Ad slot height', 'Ad slot visibility', 'Ad slot format', 'Ad slot floor price (RMB/CPM)', 'Creative ID', 'Key Page URL', 'Advertiser ID', 'User Tags']\n"
     ]
    }
   ],
   "source": [
    "header  = [\"Click\", \"Weekday\", \"Hour\", \"Timestamp\", \"Log Type\", \"User ID\", \"User‐Agent\", \"IP\", \"Region\", \"City\", \"Ad Exchange\", \"Domain\", \"URL\", \"Anonymous URL ID\", \"Ad slot ID\", \"Ad slot width\", \"Ad slot height\", \"Ad slot visibility\", \"Ad slot format\", \"Ad slot floor price (RMB/CPM)\", \"Creative ID\", \"Key Page URL\", \"Advertiser ID\", \"User Tags\"]\n",
    "print(header)"
   ]
  },
  {
   "cell_type": "code",
   "execution_count": 3,
   "metadata": {
    "collapsed": false,
    "scrolled": false
   },
   "outputs": [
    {
     "name": "stdout",
     "output_type": "stream",
     "text": [
      "   Click  Weekday  Hour          Timestamp  Log Type          User ID  \\\n",
      "0      0        6     0  20130606000104450         1  VhLrOxuUPqd63CL   \n",
      "1      0        6     0  20130606000104622         1  VhL0O5FD32m63hl   \n",
      "2      0        6     0  20130606000105049         1  Vhkr139RO2B8DVL   \n",
      "3      0        6     0  20130606000105370         1  Vhk7ZAnyPqfyqmf   \n",
      "4      0        6     0  20130606000105371         1   ZYMOCn24PlzxJt   \n",
      "\n",
      "       User‐Agent             IP  Region  City  \\\n",
      "0  windows_chrome  113.200.249.*     333   334   \n",
      "1      windows_ie     221.10.5.*     276   277   \n",
      "2  windows_chrome     60.55.44.*      94    96   \n",
      "3      windows_ie    121.34.67.*     216   219   \n",
      "4  windows_chrome     58.62.42.*     216   217   \n",
      "\n",
      "                  ...                                     Ad slot ID  \\\n",
      "0                 ...                                     2811067692   \n",
      "1                 ...                   mm_24597501_3474831_11374379   \n",
      "2                 ...                                     1991869533   \n",
      "3                 ...                    mm_10012625_2411961_9431518   \n",
      "4                 ...                                      619171058   \n",
      "\n",
      "  Ad slot width Ad slot height Ad slot visibility Ad slot format  \\\n",
      "0           250            250                  2              0   \n",
      "1           300            250                  0              1   \n",
      "2           728             90                  1              0   \n",
      "3           728             90                  1              1   \n",
      "4           300            250                  2              0   \n",
      "\n",
      "   Ad slot floor price (RMB/CPM)                       Creative ID  \\\n",
      "0                              5  7097e4210dea4d69f07f0f5e4343529c   \n",
      "1                              0  44966cc8da1ed40c95d59e863c8c75f0   \n",
      "2                              5  b90c12ed2bd7950c6027bf9c6937c48a   \n",
      "3                              0  b90c12ed2bd7950c6027bf9c6937c48a   \n",
      "4                              5  44966cc8da1ed40c95d59e863c8c75f0   \n",
      "\n",
      "                       Key Page URL  Advertiser ID  \\\n",
      "0  361e128affece850342293213691a043           3386   \n",
      "1  361e128affece850342293213691a043           3386   \n",
      "2  361e128affece850342293213691a043           3386   \n",
      "3  361e128affece850342293213691a043           3386   \n",
      "4  361e128affece850342293213691a043           3386   \n",
      "\n",
      "                             User Tags  \n",
      "0                    10006,10057,14273  \n",
      "1                    10063,10067,10006  \n",
      "2                                 null  \n",
      "3                    10052,10006,13800  \n",
      "4  13800,10006,10093,10075,10063,10111  \n",
      "\n",
      "[5 rows x 24 columns]\n"
     ]
    }
   ],
   "source": [
    "trainfile = 'train.txt'\n",
    "testfile = 'testhead.txt'\n",
    "\n",
    "n = 2847802\n",
    "s = 100000\n",
    "skip = sorted(random.sample(xrange(n),n-s))\n",
    "\n",
    "train = pd.read_csv(trainfile, header = None, sep = '\\t', names = header, skiprows=skip)\n",
    "#test = pd.read_csv(testfile, header = None, sep = '\\t', names = header[1:])\n",
    "\n",
    "### Show head lines of files\n",
    "print(train.head())\n",
    "#print(test.head())\n",
    "\n",
    "### output to csv file\n",
    "# train.head().to_csv('out.csv', sep = '\\t')"
   ]
  },
  {
   "cell_type": "code",
   "execution_count": 136,
   "metadata": {
    "collapsed": false
   },
   "outputs": [],
   "source": [
    "### Check the structure of input files\n",
    "# print(train.describe())\n",
    "# print(train.shape)"
   ]
  },
  {
   "cell_type": "code",
   "execution_count": 7,
   "metadata": {
    "collapsed": false
   },
   "outputs": [
    {
     "data": {
      "text/plain": [
       "65"
      ]
     },
     "execution_count": 7,
     "metadata": {},
     "output_type": "execute_result"
    }
   ],
   "source": [
    "#len(train[train[\"Click\"] == 1])"
   ]
  },
  {
   "cell_type": "code",
   "execution_count": 40,
   "metadata": {
    "collapsed": false
   },
   "outputs": [],
   "source": [
    "### Logistic Regression\n",
    "mytrain = train.ix[:, [1,2,8,9,10,15,16,17,18,19]]\n",
    "mytest = test.ix[:, [0,1,7,8,9,14,15,16,17,18]]\n",
    "#print(mytest.describe())\n",
    "\n",
    "newtrain = mytrain.astype(str)\n",
    "newtrain = pd.get_dummies(newtrain)\n",
    "newtrain.shape\n",
    "\n",
    "\n",
    "X,x,Y,y = train_test_split(newtrain, train[\"Click\"], test_size = 0.1)\n",
    "     \n",
    "lr = LogisticRegression(C = 1)\n",
    "lr.fit(X, Y)\n",
    "# print(\"The result of validation test is : %f\" % lr.score(x,y))\n",
    "### Predict class label for test samples\n",
    "result = lr.predict_proba(x)\n",
    "# print result.tolist()\n",
    "\n",
    "### Predict probability for each class label\n",
    "#result = lr.predict_proba(mytest)\n",
    "\n",
    "#print(result[:100, 1])"
   ]
  },
  {
   "cell_type": "code",
   "execution_count": 43,
   "metadata": {
    "collapsed": false
   },
   "outputs": [
    {
     "data": {
      "text/plain": [
       "0.067565962897421866"
      ]
     },
     "execution_count": 43,
     "metadata": {},
     "output_type": "execute_result"
    }
   ],
   "source": [
    "max(result[:,1])"
   ]
  }
 ],
 "metadata": {
  "kernelspec": {
   "display_name": "Python 2",
   "language": "python",
   "name": "python2"
  },
  "language_info": {
   "codemirror_mode": {
    "name": "ipython",
    "version": 2
   },
   "file_extension": ".py",
   "mimetype": "text/x-python",
   "name": "python",
   "nbconvert_exporter": "python",
   "pygments_lexer": "ipython2",
   "version": "2.7.11"
  }
 },
 "nbformat": 4,
 "nbformat_minor": 0
}
